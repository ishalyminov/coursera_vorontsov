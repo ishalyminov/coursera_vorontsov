{
 "cells": [
  {
   "cell_type": "code",
   "execution_count": 59,
   "metadata": {
    "collapsed": true
   },
   "outputs": [],
   "source": [
    "import pandas as pd\n",
    "import numpy as np\n",
    "from collections import defaultdict\n",
    "from operator import itemgetter"
   ]
  },
  {
   "cell_type": "code",
   "execution_count": 3,
   "metadata": {},
   "outputs": [],
   "source": [
    "df = pd.read_csv('titanic.csv')"
   ]
  },
  {
   "cell_type": "code",
   "execution_count": 70,
   "metadata": {},
   "outputs": [
    {
     "name": "stdout",
     "output_type": "stream",
     "text": [
      "#Males:  577\n",
      "#Females:  314\n"
     ]
    }
   ],
   "source": [
    "print '#Males: ', len([item for item in df['Sex'] if item == 'male'])\n",
    "print '#Females: ', len([item for item in df['Sex'] if item == 'female'])\n",
    "with open('task_1', 'w') as task_1_out:\n",
    "    task_1_out.write('{0:.2f} {1:.2f}'.format(\n",
    "        len([item for item in df['Sex'] if item == 'male']),\n",
    "        len([item for item in df['Sex'] if item == 'female']),\n",
    "    ))"
   ]
  },
  {
   "cell_type": "code",
   "execution_count": 80,
   "metadata": {},
   "outputs": [
    {
     "name": "stdout",
     "output_type": "stream",
     "text": [
      "#Survived, %:  38.3838383838\n"
     ]
    }
   ],
   "source": [
    "print '#Survived, %: ', 100. * len([item for item in df['Survived'] if item == 1]) / float(df.shape[0])\n",
    "with open('task_2', 'w') as task_2_out:\n",
    "    task_2_out.write('{0:.2f}'.format(100. * len([item for item in df['Survived'] if item == 1]) / float(df.shape[0])))"
   ]
  },
  {
   "cell_type": "code",
   "execution_count": 81,
   "metadata": {},
   "outputs": [
    {
     "name": "stdout",
     "output_type": "stream",
     "text": [
      "#1 class, %:  24.2424242424\n"
     ]
    }
   ],
   "source": [
    "print '#1 class, %: ', 100. *len([item for item in df['Pclass'] if item == 1]) / float(df.shape[0])\n",
    "with open('task_3', 'w') as task_3_out:\n",
    "    task_3_out.write('{0:.2f}'.format(100. * len([item for item in df['Pclass'] if item == 1]) / float(df.shape[0])))"
   ]
  },
  {
   "cell_type": "code",
   "execution_count": 73,
   "metadata": {},
   "outputs": [
    {
     "name": "stdout",
     "output_type": "stream",
     "text": [
      "Mean age, median age\n",
      "29.70 28.00\n"
     ]
    }
   ],
   "source": [
    "print 'Mean age, median age'\n",
    "ages = [item for item, notnull in zip(df['Age'], df.Age.notnull()) if notnull]\n",
    "print '{0:.2f} {1:.2f}'.format(np.mean(ages), np.median(ages))\n",
    "with open('task_4', 'w') as task_4_out:\n",
    "    task_4_out.write('{0:.2f} {1:.2f}'.format(np.mean(ages), np.median(ages)))"
   ]
  },
  {
   "cell_type": "code",
   "execution_count": 74,
   "metadata": {},
   "outputs": [
    {
     "name": "stdout",
     "output_type": "stream",
     "text": [
      "Pearson of SibSp and Parch: 0.41\n"
     ]
    }
   ],
   "source": [
    "print 'Pearson of SibSp and Parch: {0:.2f}'.format(df.SibSp.corr(df.Parch))\n",
    "with open('task_5', 'w') as task_5_out:\n",
    "    task_5_out.write('{0:.2f}'.format(df.SibSp.corr(df.Parch)))"
   ]
  },
  {
   "cell_type": "code",
   "execution_count": 56,
   "metadata": {
    "collapsed": true
   },
   "outputs": [],
   "source": [
    "fem_names = [name for name, sex in zip(df['Name'], df['Sex']) if sex == 'female']"
   ]
  },
  {
   "cell_type": "code",
   "execution_count": 57,
   "metadata": {},
   "outputs": [],
   "source": [
    "fem_names = [item.partition(', ')[2] for item in fem_names]\n",
    "unique_names = defaultdict(lambda: 0)\n",
    "for i in xrange(len(fem_names)):\n",
    "    if fem_names[i].startswith('Miss. '):\n",
    "        fem_names[i] = fem_names[i].partition('Miss. ')[2]\n",
    "    if fem_names[i].startswith('Mrs. '):\n",
    "        fem_names[i] = fem_names[i].partition('Mrs. ')[2]\n",
    "    name, delim, other_name = fem_names[i].partition(' (')\n",
    "    unique_names[name] += 1\n",
    "    if len(other_name):\n",
    "        other_name = other_name.strip(')')\n",
    "        unique_names[other_name] += 1"
   ]
  },
  {
   "cell_type": "code",
   "execution_count": 75,
   "metadata": {},
   "outputs": [],
   "source": [
    "sorted_names = sorted(unique_names.items(), key=itemgetter(1), reverse=True)[:10]\n",
    "with open('task_6', 'w') as task_6_out:\n",
    "    task_6_out.write(sorted_names[0][0])"
   ]
  },
  {
   "cell_type": "code",
   "execution_count": 76,
   "metadata": {},
   "outputs": [
    {
     "name": "stdout",
     "output_type": "stream",
     "text": [
      "(891, 12)\n"
     ]
    }
   ],
   "source": [
    "print df.shape"
   ]
  }
 ],
 "metadata": {
  "kernelspec": {
   "display_name": "Python 2",
   "language": "python",
   "name": "python2"
  },
  "language_info": {
   "codemirror_mode": {
    "name": "ipython",
    "version": 2
   },
   "file_extension": ".py",
   "mimetype": "text/x-python",
   "name": "python",
   "nbconvert_exporter": "python",
   "pygments_lexer": "ipython2",
   "version": "2.7.12"
  }
 },
 "nbformat": 4,
 "nbformat_minor": 2
}
